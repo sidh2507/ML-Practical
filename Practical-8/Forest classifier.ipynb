{
 "cells": [
  {
   "cell_type": "code",
   "execution_count": 3,
   "metadata": {},
   "outputs": [],
   "source": [
    "import numpy as np\n",
    "from sklearn.datasets import load_digits\n",
    "digits = load_digits()"
   ]
  },
  {
   "cell_type": "code",
   "execution_count": 5,
   "metadata": {},
   "outputs": [],
   "source": [
    "from sklearn.model_selection import train_test_split\n",
    "x_train,x_test,y_train,y_test = train_test_split(digits.data,digits.target,test_size=0.3)"
   ]
  },
  {
   "cell_type": "code",
   "execution_count": 7,
   "metadata": {},
   "outputs": [
    {
     "data": {
      "text/plain": [
       "RandomForestClassifier(criterion='entropy', n_estimators=10)"
      ]
     },
     "execution_count": 7,
     "metadata": {},
     "output_type": "execute_result"
    }
   ],
   "source": [
    "from sklearn.ensemble import RandomForestClassifier  \n",
    "classifier= RandomForestClassifier(n_estimators= 10, criterion=\"entropy\")  \n",
    "classifier.fit(x_train, y_train)  "
   ]
  },
  {
   "cell_type": "code",
   "execution_count": 10,
   "metadata": {},
   "outputs": [
    {
     "name": "stdout",
     "output_type": "stream",
     "text": [
      "[3 1 3 0 3 2 7 9 6 5 6 0 7 2 6 4 7 1 1 3 7 8 4 2 4 5 8 5 3 5 5 4 6 4 3 0 5\n",
      " 7 2 7 5 5 5 5 1 9 7 4 7 1 7 1 3 8 1 0 3 6 1 0 6 3 0 8 5 8 2 1 8 7 6 7 6 6\n",
      " 0 7 4 8 4 2 1 5 0 0 9 8 5 9 4 2 8 3 3 0 3 8 6 6 5 3 9 3 7 8 9 5 1 0 6 5 7\n",
      " 1 2 5 5 4 0 4 3 7 1 6 0 2 4 0 0 9 0 2 0 9 6 0 1 5 4 6 2 4 4 4 6 2 6 6 4 4\n",
      " 0 6 8 4 4 5 9 8 3 4 0 3 7 4 8 8 5 6 2 1 2 9 3 2 4 5 4 0 4 8 2 2 1 0 9 8 7\n",
      " 9 8 0 6 6 2 0 3 2 4 3 7 4 6 0 6 5 4 0 3 9 0 7 5 9 8 9 9 0 5 7 9 0 8 4 0 2\n",
      " 0 5 2 1 6 0 9 8 0 9 6 0 2 6 3 7 2 1 9 7 9 7 0 7 8 0 1 2 2 1 6 7 7 1 7 7 9\n",
      " 6 5 6 4 2 7 2 2 7 4 6 9 2 1 1 0 0 9 3 3 7 7 4 5 1 1 0 4 4 9 0 3 7 7 4 4 9\n",
      " 2 9 2 8 4 9 2 7 1 4 4 4 6 9 0 6 9 2 7 1 5 5 6 3 4 1 6 7 1 1 1 6 9 9 7 9 7\n",
      " 4 9 5 4 5 2 5 6 7 1 5 9 4 5 0 2 3 0 9 3 4 3 1 1 4 6 8 8 8 7 0 4 4 3 1 7 4\n",
      " 1 0 1 0 4 4 6 7 7 0 1 4 1 0 2 0 3 1 5 9 5 3 5 5 3 5 6 0 1 1 7 9 8 4 2 8 3\n",
      " 3 7 6 2 1 4 2 1 9 4 1 3 9 0 3 3 4 3 9 5 8 6 2 1 7 8 5 7 9 9 1 4 1 2 8 8 5\n",
      " 7 8 0 9 1 9 9 2 1 1 2 4 7 3 1 0 7 2 8 8 2 1 3 6 2 5 9 8 8 5 8 6 4 1 3 1 2\n",
      " 1 4 6 1 6 6 0 5 1 7 8 2 7 3 9 3 5 7 1 3 4 7 0 5 4 8 3 0 2 1 0 8 6 3 2 6 3\n",
      " 9 1 5 9 3 9 0 0 1 7 3 4 9 6 4 8 8 4 9 5 0 4]\n"
     ]
    }
   ],
   "source": [
    "y_pred= classifier.predict(x_test)  \n",
    "print(y_pred)"
   ]
  },
  {
   "cell_type": "code",
   "execution_count": 11,
   "metadata": {},
   "outputs": [],
   "source": [
    "#Confusion Matrix and Classification report for Random Forest"
   ]
  },
  {
   "cell_type": "code",
   "execution_count": 12,
   "metadata": {},
   "outputs": [
    {
     "name": "stdout",
     "output_type": "stream",
     "text": [
      "Confusion matrix : \n",
      " [[59  0  0  0  1  0  0  0  0  0]\n",
      " [ 0 57  0  0  0  1  0  0  1  0]\n",
      " [ 0  0 47  0  0  0  0  0  0  0]\n",
      " [ 0  0  0 49  0  0  0  0  0  0]\n",
      " [ 0  0  0  0 60  0  0  1  0  0]\n",
      " [ 0  0  2  1  1 48  0  0  0  0]\n",
      " [ 1  0  0  0  2  0 50  0  0  0]\n",
      " [ 0  2  0  0  2  0  0 53  0  0]\n",
      " [ 0  2  1  0  0  0  0  2 41  1]\n",
      " [ 0  1  0  0  0  1  0  0  1 52]]\n",
      "Classification report : \n",
      "               precision    recall  f1-score   support\n",
      "\n",
      "           0       0.98      0.98      0.98        60\n",
      "           1       0.92      0.97      0.94        59\n",
      "           2       0.94      1.00      0.97        47\n",
      "           3       0.98      1.00      0.99        49\n",
      "           4       0.91      0.98      0.94        61\n",
      "           5       0.96      0.92      0.94        52\n",
      "           6       1.00      0.94      0.97        53\n",
      "           7       0.95      0.93      0.94        57\n",
      "           8       0.95      0.87      0.91        47\n",
      "           9       0.98      0.95      0.96        55\n",
      "\n",
      "    accuracy                           0.96       540\n",
      "   macro avg       0.96      0.95      0.96       540\n",
      "weighted avg       0.96      0.96      0.96       540\n",
      "\n"
     ]
    }
   ],
   "source": [
    "from sklearn.metrics import confusion_matrix\n",
    "from sklearn.metrics import classification_report\n",
    "matrix = confusion_matrix(y_test,y_pred)\n",
    "print('Confusion matrix : \\n',matrix)\n",
    "matrix = classification_report(y_test,y_pred)\n",
    "print('Classification report : \\n',matrix)"
   ]
  },
  {
   "cell_type": "code",
   "execution_count": null,
   "metadata": {},
   "outputs": [],
   "source": []
  }
 ],
 "metadata": {
  "kernelspec": {
   "display_name": "Python 3",
   "language": "python",
   "name": "python3"
  },
  "language_info": {
   "codemirror_mode": {
    "name": "ipython",
    "version": 3
   },
   "file_extension": ".py",
   "mimetype": "text/x-python",
   "name": "python",
   "nbconvert_exporter": "python",
   "pygments_lexer": "ipython3",
   "version": "3.8.5"
  }
 },
 "nbformat": 4,
 "nbformat_minor": 5
}
